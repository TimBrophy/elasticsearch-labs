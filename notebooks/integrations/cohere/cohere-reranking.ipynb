{
 "cells": [
  {
   "cell_type": "markdown",
   "metadata": {},
   "source": [
    "# Hybrid search with Cohere reranking\n",
    "\n",
    "[![Open In Colab](https://colab.research.google.com/assets/colab-badge.svg)](https://colab.research.google.com/github/elastic/elasticsearch-labs/blob/demjened/cohere-reranking/notebooks/integrations/cohere/cohere-reranking.ipynb)"
   ]
  },
  {
   "cell_type": "markdown",
   "metadata": {},
   "source": [
    "## 1. Install dependencies"
   ]
  },
  {
   "cell_type": "code",
   "execution_count": 1,
   "metadata": {},
   "outputs": [],
   "source": [
    "%%capture\n",
    "\n",
    "%pip install cohere elasticsearch datasets"
   ]
  },
  {
   "cell_type": "markdown",
   "metadata": {},
   "source": [
    "## 2. Read credentials"
   ]
  },
  {
   "cell_type": "code",
   "execution_count": 2,
   "metadata": {},
   "outputs": [],
   "source": [
    "from getpass import getpass\n",
    "\n",
    "ELASTIC_CLOUD_ID = getpass(\"Elastic Cloud ID: \")\n",
    "ELASTIC_USERNAME = getpass(\"Elastic username: \")\n",
    "ELASTIC_PASSWORD = getpass(\"Elastic password: \")\n",
    "COHERE_API_KEY = getpass(\"Cohere API key: \")"
   ]
  },
  {
   "cell_type": "markdown",
   "metadata": {},
   "source": [
    "## 3. Connect to Elastic Cloud\n",
    "\n",
    "Note: you need a Cloud instance with the `.elser_model_2_linux-x86_64` model deployed."
   ]
  },
  {
   "cell_type": "code",
   "execution_count": 3,
   "metadata": {},
   "outputs": [
    {
     "data": {
      "text/plain": [
       "ObjectApiResponse({'name': 'instance-0000000000', 'cluster_name': 'a5e67b93dad1495db96cb15d86779b87', 'cluster_uuid': 'Qxr1n6rWRDWQ6DsAM5-SwA', 'version': {'number': '8.12.0', 'build_flavor': 'default', 'build_type': 'docker', 'build_hash': '1665f706fd9354802c02146c1e6b5c0fbcddfbc9', 'build_date': '2024-01-11T10:05:27.953830042Z', 'build_snapshot': False, 'lucene_version': '9.9.1', 'minimum_wire_compatibility_version': '7.17.0', 'minimum_index_compatibility_version': '7.0.0'}, 'tagline': 'You Know, for Search'})"
      ]
     },
     "execution_count": 3,
     "metadata": {},
     "output_type": "execute_result"
    }
   ],
   "source": [
    "from elasticsearch import Elasticsearch, helpers\n",
    "\n",
    "es_client = Elasticsearch(cloud_id=ELASTIC_CLOUD_ID, basic_auth=(ELASTIC_USERNAME, ELASTIC_PASSWORD), request_timeout=3600)\n",
    "es_client.info()"
   ]
  },
  {
   "cell_type": "markdown",
   "metadata": {},
   "source": [
    "## 4. Initialize Cohere"
   ]
  },
  {
   "cell_type": "code",
   "execution_count": 4,
   "metadata": {},
   "outputs": [],
   "source": [
    "import cohere\n",
    "\n",
    "co = cohere.Client(COHERE_API_KEY)"
   ]
  },
  {
   "cell_type": "markdown",
   "metadata": {},
   "source": [
    "## 5. Create Elasticsearch index and inference pipeline"
   ]
  },
  {
   "cell_type": "code",
   "execution_count": 5,
   "metadata": {},
   "outputs": [
    {
     "name": "stdout",
     "output_type": "stream",
     "text": [
      "Index and pipeline created.\n"
     ]
    }
   ],
   "source": [
    "index = \"rerank_poc\"\n",
    "model_id = \".elser_model_2_linux-x86_64\"\n",
    "pipeline_id = f\"ml-inference-{index}-elser\"\n",
    "\n",
    "if not es_client.indices.exists(index=index):\n",
    "    es_client.indices.create(\n",
    "        index=index,\n",
    "        mappings={\n",
    "            \"properties\": {\n",
    "                \"title\": {\"type\": \"text\"},\n",
    "                \"text\": {\"type\": \"text\"},\n",
    "                \"ml\": {\n",
    "                    \"type\": \"object\",\n",
    "                    \"properties\": {\n",
    "                        \"inference\": {\n",
    "                            \"type\": \"object\",\n",
    "                            \"properties\": {\n",
    "                                \"text_expanded\": {\n",
    "                                    \"type\": \"object\",\n",
    "                                    \"properties\": {\n",
    "                                        \"predicted_value\": {\"type\": \"sparse_vector\"},\n",
    "                                        \"model_id\": {\"type\": \"keyword\"},\n",
    "                                    },\n",
    "                                }\n",
    "                            },\n",
    "                        }\n",
    "                    },\n",
    "                },\n",
    "            }\n",
    "        },\n",
    "    )\n",
    "\n",
    "    es_client.ingest.put_pipeline(\n",
    "        id=pipeline_id,\n",
    "        processors=[\n",
    "            {\"remove\": {\"field\": \"ml.inference.text_expanded\", \"ignore_missing\": True}},\n",
    "            {\n",
    "                \"inference\": {\n",
    "                    \"field_map\": {\"text\": \"text_field\"},\n",
    "                    \"model_id\": model_id,\n",
    "                    \"on_failure\": [\n",
    "                        {\n",
    "                            \"append\": {\n",
    "                                \"field\": \"_source._ingest.inference_errors\",\n",
    "                                \"allow_duplicates\": False,\n",
    "                                \"value\": [\n",
    "                                    {\n",
    "                                        \"message\": f\"Processor 'inference' in pipeline '{pipeline_id}' failed for field 'text' with message '{{ _ingest.on_failure_message }}'\",\n",
    "                                        \"pipeline\": pipeline_id,\n",
    "                                        \"timestamp\": \"{{{ _ingest.timestamp }}}\",\n",
    "                                    }\n",
    "                                ],\n",
    "                            }\n",
    "                        }\n",
    "                    ],\n",
    "                    \"target_field\": \"ml.inference.text_expanded\",\n",
    "                }\n",
    "            },\n",
    "            {\n",
    "                \"append\": {\n",
    "                    \"field\": \"_source._ingest.processors\",\n",
    "                    \"value\": [\n",
    "                        {\n",
    "                            \"model_version\": \"12.0.0\",\n",
    "                            \"pipeline\": pipeline_id,\n",
    "                            \"processed_timestamp\": \"{{{ _ingest.timestamp }}}\",\n",
    "                            \"types\": [\"pytorch\", \"text_expansion\"],\n",
    "                        }\n",
    "                    ],\n",
    "                }\n",
    "            },\n",
    "        ],\n",
    "        version=1,\n",
    "    )\n",
    "\n",
    "    print(\"Index and pipeline created.\")"
   ]
  },
  {
   "cell_type": "markdown",
   "metadata": {},
   "source": [
    "## 6. Index documents with ELSER text expansion inference"
   ]
  },
  {
   "cell_type": "code",
   "execution_count": 6,
   "metadata": {},
   "outputs": [
    {
     "name": "stderr",
     "output_type": "stream",
     "text": [
      "/Users/demjened/.pyenv/versions/3.11.7/lib/python3.11/site-packages/huggingface_hub/repocard.py:105: UserWarning: Repo card metadata block was not found. Setting CardData to empty.\n",
      "  warnings.warn(\"Repo card metadata block was not found. Setting CardData to empty.\")\n"
     ]
    },
    {
     "name": "stdout",
     "output_type": "stream",
     "text": [
      "Start indexing docs. This might take few minutes.\n",
      "Indexing result (500, [])\n"
     ]
    }
   ],
   "source": [
    "from datasets import load_dataset\n",
    "\n",
    "# Load 500 articles from the simple English Wikipedia dataset and index it\n",
    "data = load_dataset(\n",
    "    f\"Cohere/wikipedia-22-12\",\n",
    "    \"simple\",\n",
    "    split=\"train[:500]\",\n",
    "    trust_remote_code=True,\n",
    ")\n",
    "\n",
    "all_docs = map(\n",
    "    lambda doc: {\n",
    "        \"_index\": index,\n",
    "        \"_id\": doc[\"id\"],\n",
    "        \"pipeline\": pipeline_id,\n",
    "        \"_source\": {\n",
    "            \"title\": doc[\"title\"],\n",
    "            \"text\": doc[\"text\"],\n",
    "        },\n",
    "    },\n",
    "    data,\n",
    ")\n",
    "\n",
    "print(\"Start indexing docs. This might take few minutes.\")\n",
    "\n",
    "bulk_index_result = helpers.bulk(es_client, all_docs, raise_on_error=False)\n",
    "print(\"Indexing result\", bulk_index_result)"
   ]
  },
  {
   "cell_type": "markdown",
   "metadata": {},
   "source": [
    "## 7. Run hybrid query with linear combination"
   ]
  },
  {
   "cell_type": "code",
   "execution_count": 7,
   "metadata": {},
   "outputs": [
    {
     "name": "stdout",
     "output_type": "stream",
     "text": [
      "QUERY\n",
      "What's the story with Schrodinger's cat?\n",
      "ORIGINAL DOCS\n",
      "{'_id': '104', '_score': 17.17821, 'title': \"Schrödinger's cat\", 'text': 'The question now is: at the end of the hour, is the cat alive or dead? Schrödinger says that according to the Copenhagen Interpretation, as long as the door is closed, the cat is dead and alive. There is no way to know until the door is opened. But by opening the door, the person is interfering with the experiment. The person and the experiment have to be described with reference to each other.'}\n",
      "{'_id': '96', '_score': 15.896298, 'title': \"Schrödinger's cat\", 'text': 'In simple terms, Schrödinger stated that if you place a cat and something that could kill the cat (a radioactive atom) in a box and sealed it, you would not know if the cat was dead or alive until you opened the box, so that until the box was opened, the cat was (in a sense) \"both\" \"dead and alive\". This is used to represent how scientific theory works. No one knows if any scientific theory is right or wrong until said theory can be tested and proved.'}\n",
      "{'_id': '95', '_score': 15.726769, 'title': \"Schrödinger's cat\", 'text': \"Schrödinger's cat is a thought experiment about quantum physics. Erwin Schrödinger suggested it in 1935, in reaction to the Copenhagen interpretation of quantum physics.\"}\n",
      "{'_id': '94', '_score': 10.400664, 'title': 'Fictional character', 'text': 'A character role in a play means one of the people in the play who have a particular character (personality). They contrast with the main characters of the play. For example, a pair of lovers may be the main characters of the story. The character roles who help the story might be: a wicked step-mother, a kind nurse, an old wise man, a fool, a domestic worker who is very old, a \"Mary Sue\" who is virtually without flaws, and so forth. These may be archetypes.'}\n",
      "{'_id': '103', '_score': 9.267911, 'title': \"Schrödinger's cat\", 'text': '\"If the material breaks down, it will release an atomic particle, which will hit the geiger counter, which will release poison gas, which will kill the cat.\"'}\n",
      "{'_id': '100', '_score': 5.830132, 'title': \"Schrödinger's cat\", 'text': 'Schrödinger wanted to show that this way of thinking about quantum mechanics would lead to absurd situations. He designed a thought experiment.'}\n",
      "{'_id': '106', '_score': 5.2035384, 'title': \"Schrödinger's cat\", 'text': 'The thought experiment was invented by Schrödinger to demonstrate the foolishness of thinking about quantum states for large objects. It has also been referenced many times in pop culture.'}\n",
      "{'_id': '300', '_score': 4.1630898, 'title': 'Ed Lauter', 'text': 'Edward Matthew \"Ed\" Lauter II (October 30, 1938 – October 16, 2013), known as Ed Lauter, was an American actor and stand-up comedian. He was known for his roles in \"Family Plot\", \"Cujo\", \"Death Wish III\", \"Born on the Fourth of July\", \"\", \"The Number 23\", and in \"Trouble with the Curve\".'}\n",
      "{'_id': '310', '_score': 2.9449916, 'title': 'Cricket', 'text': 'The batsman is trying to defend the wicket from getting hit with the ball. He does this with a bat. When he hits the ball with his bat, he may run toward the other wicket.'}\n",
      "{'_id': '43', '_score': 2.8953557, 'title': 'Cristiano Ronaldo', 'text': \"Ronaldo began his international career with the Portugal under-15's in 2001. In 2002, he played the U-17 Euro with Portugal's U-17. In June 2003, Ronaldo won the Toulon Tournament with the Portugal U-20. He played with the U21's in 2003 as well during the 2004 U-21 Euro qualification stages. He also played with the Portugal under-23 team at the 2004 Summer Olympics, where he scored one goal against Morocco.\"}\n"
     ]
    }
   ],
   "source": [
    "query = \"What's the story with Schrodinger's cat?\"\n",
    "\n",
    "print(\"QUERY\", query, sep=\"\\n\")\n",
    "\n",
    "resp = es_client.search(\n",
    "    index=index,\n",
    "    size=100,\n",
    "    query={\n",
    "        \"bool\": {\n",
    "            \"should\": [\n",
    "                {\"multi_match\": {\"query\": query, \"fields\": [\"text\"], \"boost\": \"1\"}},\n",
    "                {\n",
    "                    \"text_expansion\": {\n",
    "                        \"ml.inference.text_expanded.predicted_value\": {\n",
    "                            \"model_text\": query,\n",
    "                            \"model_id\": model_id,\n",
    "                            \"boost\": \"0.5\",\n",
    "                        }\n",
    "                    }\n",
    "                },\n",
    "            ],\n",
    "            \"minimum_should_match\": 1,\n",
    "        }\n",
    "    },\n",
    ")\n",
    "\n",
    "resp_docs = list(\n",
    "    map(\n",
    "        lambda doc: {\n",
    "            \"_id\": doc[\"_id\"],\n",
    "            \"_score\": doc[\"_score\"],\n",
    "            \"title\": doc[\"_source\"][\"title\"],\n",
    "            \"text\": doc[\"_source\"][\"text\"],\n",
    "        },\n",
    "        resp[\"hits\"][\"hits\"],\n",
    "    )\n",
    ")\n",
    "\n",
    "texts = [hit[\"_source\"][\"text\"] for hit in resp[\"hits\"][\"hits\"]]\n",
    "\n",
    "print(\"ORIGINAL DOCS\", *resp_docs[:10], sep=\"\\n\")"
   ]
  },
  {
   "cell_type": "markdown",
   "metadata": {},
   "source": [
    "## 8. Rerank search results with Cohere"
   ]
  },
  {
   "cell_type": "code",
   "execution_count": 8,
   "metadata": {},
   "outputs": [
    {
     "name": "stdout",
     "output_type": "stream",
     "text": [
      "RERANKED DOCS\n",
      "{'_id': '95', '_score': 15.726769, 'title': \"Schrödinger's cat\", 'text': \"Schrödinger's cat is a thought experiment about quantum physics. Erwin Schrödinger suggested it in 1935, in reaction to the Copenhagen interpretation of quantum physics.\", '_reranked_score': 0.9953182}\n",
      "{'_id': '96', '_score': 15.896298, 'title': \"Schrödinger's cat\", 'text': 'In simple terms, Schrödinger stated that if you place a cat and something that could kill the cat (a radioactive atom) in a box and sealed it, you would not know if the cat was dead or alive until you opened the box, so that until the box was opened, the cat was (in a sense) \"both\" \"dead and alive\". This is used to represent how scientific theory works. No one knows if any scientific theory is right or wrong until said theory can be tested and proved.', '_reranked_score': 0.987375}\n",
      "{'_id': '100', '_score': 5.830132, 'title': \"Schrödinger's cat\", 'text': 'Schrödinger wanted to show that this way of thinking about quantum mechanics would lead to absurd situations. He designed a thought experiment.', '_reranked_score': 0.9862577}\n"
     ]
    }
   ],
   "source": [
    "rerank_hits = co.rerank(\n",
    "    query=query,\n",
    "    documents=texts,\n",
    "    max_chunks_per_doc=1,\n",
    "    top_n=3,\n",
    "    model=\"rerank-english-v2.0\",\n",
    ")\n",
    "\n",
    "rerank_docs = list(\n",
    "    map(\n",
    "        lambda ranked: {\n",
    "            **resp_docs[ranked.index],\n",
    "            \"_reranked_score\": ranked.relevance_score,\n",
    "        },\n",
    "        rerank_hits,\n",
    "    )\n",
    ")\n",
    "\n",
    "print(\"RERANKED DOCS\", *rerank_docs, sep=\"\\n\")"
   ]
  },
  {
   "cell_type": "markdown",
   "metadata": {},
   "source": [
    "## 9. Clean up resources"
   ]
  },
  {
   "cell_type": "code",
   "execution_count": 9,
   "metadata": {},
   "outputs": [
    {
     "data": {
      "text/plain": [
       "ObjectApiResponse({'acknowledged': True})"
      ]
     },
     "execution_count": 9,
     "metadata": {},
     "output_type": "execute_result"
    }
   ],
   "source": [
    "es_client.ingest.delete_pipeline(id=pipeline_id)\n",
    "es_client.indices.delete(index=index)"
   ]
  }
 ],
 "metadata": {
  "kernelspec": {
   "display_name": ".venv",
   "language": "python",
   "name": "python3"
  },
  "language_info": {
   "codemirror_mode": {
    "name": "ipython",
    "version": 3
   },
   "file_extension": ".py",
   "mimetype": "text/x-python",
   "name": "python",
   "nbconvert_exporter": "python",
   "pygments_lexer": "ipython3",
   "version": "3.11.7"
  }
 },
 "nbformat": 4,
 "nbformat_minor": 2
}
